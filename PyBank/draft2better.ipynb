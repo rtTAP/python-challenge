{
 "cells": [
  {
   "cell_type": "code",
   "execution_count": 1,
   "metadata": {},
   "outputs": [],
   "source": [
    "import os\n",
    "import csv"
   ]
  },
  {
   "cell_type": "code",
   "execution_count": null,
   "metadata": {},
   "outputs": [],
   "source": [
    "csvpath = os.path.join(\"Resources\",\"budget_data.csv\")\n",
    "\n",
    "#open and read csv file\n",
    "with open(csvpath, 'r') as csvfile:\n",
    "    budgetdata = csv.reader(csvfile)\n",
    "\n",
    "    #read header row first\n",
    "    csv_header = next(budgetdata)\n",
    "    print(f'CSV Header: {csv_header}')\n",
    "\n",
    "    # Loop to read the data\n",
    "    rows = []\n",
    "    for row in budgetdata:\n",
    "        rows.append(row)\n",
    "    \n",
    "    \n"
   ]
  },
  {
   "cell_type": "code",
   "execution_count": null,
   "metadata": {},
   "outputs": [],
   "source": [
    "rows[85]"
   ]
  },
  {
   "cell_type": "code",
   "execution_count": null,
   "metadata": {},
   "outputs": [],
   "source": [
    "rows[85]"
   ]
  },
  {
   "cell_type": "code",
   "execution_count": null,
   "metadata": {},
   "outputs": [],
   "source": [
    "#greatest increase greatest decrease\n",
    "greatest_increase = 0\n",
    "greatest_decrease = 0\n",
    "sum_change = 0\n",
    "sum_profit = int(rows[0][1])\n",
    "num_change = 0\n",
    "time_of_greatest_increase = ''\n",
    "time_of_greatest_decrease = ''\n",
    "\n",
    "for i in range(1, len(rows)):\n",
    "    # Sum the total profit and loss over the period\n",
    "    sum_profit += int(rows[i][1])\n",
    "    #sum_profit = sum_profit + int(rows[i][1])\n",
    "\n",
    "    # Calculate the change between this month and last month\n",
    "    change = int(rows[i][1]) - int(rows[i-1][1])\n",
    "\n",
    "    # Calculate the sum of change\n",
    "    sum_change += change\n",
    "    #sum_change = sum_change + change\n",
    "    num_change = num_change + 1\n",
    "\n",
    "    # Track the greatest increase\n",
    "    if change > greatest_increase:\n",
    "        greatest_increase = change\n",
    "        time_of_greatest_increase = rows[i][0]\n",
    "\n",
    "    # Track the greatest decrease\n",
    "    if change < greatest_decrease:\n",
    "        greatest_decrease = change\n",
    "        time_of_greatest_decrease = rows[i][0]\n",
    "\n",
    "average_change = round(sum_change/num_change, 2)\n",
    "\n",
    "print(\"Total Months: \" + str(len(rows)))\n",
    "print(\"Total: \" + \"$\" + str(sum_profit))\n",
    "print(\"Average Change: \" + \"$\" + str(average_change))\n",
    "print(\"Greatest Increase in Profits: \" + time_of_greatest_increase + \" $\" + str(greatest_increase))\n",
    "print(\"Greatest Decrease in Profits: \" + time_of_greatest_decrease + \" $\" + str(greatest_decrease))"
   ]
  },
  {
   "cell_type": "code",
   "execution_count": 12,
   "metadata": {},
   "outputs": [],
   "source": [
    "#specify text file to write to\n",
    "#create the file, open the file, write to the file Specify the variable to hold the contents\n",
    "#with open(os.path.join(\"analysis\", \"pybank.txt\"), 'a') as f:\n",
    "    #print(\"Total Months: \" + str(len(rows)), file=f)\n",
    "    #print(\"Total: \" + \"$\" + str(sum_profit), file=f)\n",
    "    #print(\"Average Change: \" + \"$\" + str(average_change), file=f)\n",
    "    #print(\"Greatest Increase in Profits: \" + time_of_greatest_increase + \" $\" + str(greatest_increase), file=f)\n",
    "    #print(\"Greatest Decrease in Profits: \" + time_of_greatest_decrease + \" $\" + str(greatest_decrease), file=f)\n",
    "    #f.close()\n"
   ]
  }
 ],
 "metadata": {
  "kernelspec": {
   "display_name": "Python 3 (ipykernel)",
   "language": "python",
   "name": "python3"
  },
  "language_info": {
   "codemirror_mode": {
    "name": "ipython",
    "version": 3
   },
   "file_extension": ".py",
   "mimetype": "text/x-python",
   "name": "python",
   "nbconvert_exporter": "python",
   "pygments_lexer": "ipython3",
   "version": "3.11.7"
  }
 },
 "nbformat": 4,
 "nbformat_minor": 4
}

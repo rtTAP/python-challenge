{
 "cells": [
  {
   "cell_type": "code",
   "execution_count": 1,
   "id": "60b31ea2-58d0-4979-8adb-78f0e875433e",
   "metadata": {},
   "outputs": [],
   "source": [
    "\n",
    "import os\n",
    "import csv"
   ]
  },
  {
   "cell_type": "code",
   "execution_count": 2,
   "id": "acf24776-986d-4f67-be97-4139721f60e7",
   "metadata": {},
   "outputs": [],
   "source": [
    "#create the paths and join\n",
    "csvpath = os.path.join(\"Resources\",\"election_data.csv\")\n",
    "\n",
    "#dictionary to store vote counts\n",
    "candidate_votes = {}\n",
    "\n",
    "#variables\n",
    "sum_votes = 0\n",
    "candidate_options = []\n",
    "winner_candidate = \"\"\n",
    "winner_count = 0\n",
    "\n",
    "#open and read csv file\n",
    "with open(csvpath, 'r') as csvfile:\n",
    "    electiondata = csv.reader(csvfile)\n",
    "    #read header row first\n",
    "    csv_header = next(electiondata)\n",
    "\n",
    "#Loop to read the data\n",
    "    #rows = []\n",
    "    for row in electiondata:\n",
    "         sum_votes = sum_votes + 1\n",
    "         candidate_name = row[2]\n",
    "        #count for each candidate\n",
    "         if candidate_name not in candidate_options:\n",
    "             #keep candidate name if not already listed in options\n",
    "            candidate_options.append(candidate_name)\n",
    "             #starts count at 0 for new name\n",
    "            candidate_votes[candidate_name] = 0\n",
    "        #adds and moves to next\n",
    "         candidate_votes[candidate_name] = candidate_votes[candidate_name] + 1\n",
    "\n",
    "    "
   ]
  },
  {
   "cell_type": "code",
   "execution_count": 3,
   "id": "5d1e4037-3e6a-4c75-be09-4ae2e454167a",
   "metadata": {},
   "outputs": [
    {
     "name": "stdout",
     "output_type": "stream",
     "text": [
      "Election Results\n",
      "--------------------\n",
      "Total Votes: 369711\n",
      "--------------------\n",
      "Charles Casper Stockham:23.049% (85213)\n",
      "\n",
      "Diana DeGette:73.812% (272892)\n",
      "\n",
      "Raymon Anthony Doane:3.139% (11606)\n",
      "\n",
      "--------------------\n",
      "Winner: Diana DeGette\n",
      "\n",
      "--------------------\n"
     ]
    }
   ],
   "source": [
    "#prints results title\n",
    "print(\"Election Results\")\n",
    "#prints line in between\n",
    "print(\"--------------------\")\n",
    "#prints the sum of all the votes listed\n",
    "print(f\"Total Votes: {sum_votes}\")\n",
    "\n",
    "print(\"--------------------\")\n",
    "#for each item in library calculate % of votes\n",
    "for candidate, votes in candidate_votes.items():\n",
    "    votes_percent = float(votes) / float(sum_votes) * 100\n",
    "    #print out each candidates name with % votes, each in a new line, with 3 decimal places and % symbol and number of votes in brackets\n",
    "    print(f\"{candidate}:{votes_percent:.3f}% ({votes})\\n\")\n",
    "    #selects the winning vote count and candidate as winning vote equal zero therefore each loop finds greatest candidate votes\n",
    "    if (votes > winner_count): \n",
    "        winner_count = votes\n",
    "        winner_candidate = candidate\n",
    "    #print(f\"{candidate}:{votes_percent:.3f}% ({votes})\\n\")\n",
    "print(\"--------------------\")\n",
    "#prints winning candidate in their own line\n",
    "print(f\"Winner: {winner_candidate}\\n\")\n",
    "print(\"--------------------\")\n",
    "\n"
   ]
  },
  {
   "cell_type": "code",
   "execution_count": 4,
   "id": "cb764437-4284-4485-8da2-e66b889ca946",
   "metadata": {},
   "outputs": [],
   "source": [
    "# Specify the file to write to\n",
    "#output_path = os.path.join(\"..\", \"analysis\", \"pypoll.txt\")\n",
    "# Open the file using \"append\" mode. Specify the variable to hold the contents\n",
    "with open(os.path.join(\"analysis\", \"pypoll.txt\"), 'a') as f:\n",
    "#with open(\"pypoll.txt\", 'a') as f:\n",
    "    #f = open(\"pypoll.txt\", \"x\")\n",
    "    #pypoll = txt.writer(txtfile)\n",
    "    print(\"Election Results\", file=f)\n",
    "    print(\"--------------------\", file=f)\n",
    "    print(f\"Total Votes: {sum_votes}\", file=f)\n",
    "    print(\"--------------------\", file=f)\n",
    "    for candidate, votes in candidate_votes.items():\n",
    "        votes_percent = float(votes) / float(sum_votes) * 100\n",
    "        print(f\"{candidate}: {votes_percent:.3f}% ({votes})\", file=f)\n",
    "        if votes > winner_count:\n",
    "            winner_count = votes\n",
    "            winner_candidate = candidate\n",
    "    print(\"--------------------\", file=f)\n",
    "    print(f\"Winner: {winner_candidate}\", file=f)\n",
    "    print(\"--------------------\", file=f)\n",
    "    f.close()"
   ]
  }
 ],
 "metadata": {
  "kernelspec": {
   "display_name": "Python 3 (ipykernel)",
   "language": "python",
   "name": "python3"
  },
  "language_info": {
   "codemirror_mode": {
    "name": "ipython",
    "version": 3
   },
   "file_extension": ".py",
   "mimetype": "text/x-python",
   "name": "python",
   "nbconvert_exporter": "python",
   "pygments_lexer": "ipython3",
   "version": "3.11.7"
  }
 },
 "nbformat": 4,
 "nbformat_minor": 5
}

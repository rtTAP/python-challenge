{
 "cells": [
  {
   "cell_type": "code",
   "execution_count": 17,
   "metadata": {},
   "outputs": [],
   "source": [
    "\n",
    "import os\n",
    "import csv"
   ]
  },
  {
   "cell_type": "code",
   "execution_count": 18,
   "metadata": {},
   "outputs": [],
   "source": [
    "#create the paths and join\n",
    "csvpath = os.path.join(\"Resources\",\"election_data.csv\")\n",
    "\n",
    "#dictionary to store vote counts\n",
    "candidate_votes = {}\n",
    "\n",
    "#variables to count votes\n",
    "sum_votes = 0\n",
    "sum_candidate = 0\n",
    "candidate_options = []\n",
    "county = []\n",
    "winner_candidate = \"\"\n",
    "winner_count = 0\n",
    "\n",
    "#open and read csv file\n",
    "with open(csvpath, 'r') as csvfile:\n",
    "    electiondata = csv.reader(csvfile)\n",
    "    #print(csvfile)\n",
    "    #read header row first\n",
    "    csv_header = next(electiondata)\n",
    "    #print(f'CSV Header: {csv_header}')\n",
    "    #print(csvfile)\n",
    "    \n",
    "#Loop to read the data\n",
    "    #rows = []\n",
    "    for row in electiondata:\n",
    "         sum_votes = sum_votes + 1\n",
    "         candidate_name = row[2]\n",
    "        #count for each candidate\n",
    "         if candidate_name not in candidate_options:\n",
    "            candidate_options.append(candidate_name)\n",
    "            candidate_votes[candidate_name] = 0\n",
    "        \n",
    "         candidate_votes[candidate_name] = candidate_votes[candidate_name] + 1\n",
    "    \n",
    "        \n",
    "        #sum_votes += 1    "
   ]
  },
  {
   "cell_type": "code",
   "execution_count": 19,
   "metadata": {},
   "outputs": [
    {
     "name": "stdout",
     "output_type": "stream",
     "text": [
      "Election Results\n",
      "--------------------\n",
      "Total Votes: 369711\n",
      "--------------------\n",
      "Charles Casper Stockham:23.049% (85213)\n",
      "\n",
      "Diana DeGette:73.812% (272892)\n",
      "\n",
      "Raymon Anthony Doane:3.139% (11606)\n",
      "\n",
      "--------------------\n",
      "Winner: Diana DeGette\n",
      "\n",
      "--------------------\n"
     ]
    }
   ],
   "source": [
    "print(\"Election Results\")\n",
    "\n",
    "print(\"--------------------\")\n",
    "\n",
    "print(f\"Total Votes: {sum_votes}\")\n",
    "\n",
    "print(\"--------------------\")\n",
    "\n",
    "for candidate, votes in candidate_votes.items():\n",
    "    votes_percent = float(votes) / float(sum_votes) * 100\n",
    "    print(f\"{candidate}:{votes_percent:.3f}% ({votes})\\n\")\n",
    "    if (votes > winner_count): \n",
    "        winner_count = votes\n",
    "        winner_candidate = candidate\n",
    "    #print(f\"{candidate}:{votes_percent:.3f}% ({votes})\\n\")\n",
    "print(\"--------------------\")\n",
    "print(f\"Winner: {winner_candidate}\\n\")\n",
    "print(\"--------------------\")"
   ]
  },
  {
   "cell_type": "code",
   "execution_count": 31,
   "metadata": {
    "scrolled": true
   },
   "outputs": [],
   "source": [
    "#total sum of votes\n",
    "#print(f\"Total votes: {sum_votes}\")\n",
    "\n",
    "# Print the vote counts for each candidate\n",
    "#for candidate, votes in candidate_votes.items():\n",
    "    #print(f\"{candidate}: {votes}\\n\")\n",
    "##print(f\"{candidate_votes[1]}\\n \")\n",
    "#print(f\"{candidate_votes[2]}\")"
   ]
  },
  {
   "cell_type": "code",
   "execution_count": 34,
   "metadata": {},
   "outputs": [],
   "source": [
    "# Specify the file to write to\n",
    "#output_path = os.path.join(\"..\", \"analysis\", \"pypoll.txt\")\n",
    "# Open the file using \"write\" mode. Specify the variable to hold the contents\n",
    "#with open(os.path.join(\"analysis\", \"pypoll.txt\"), 'a') as f:\n",
    "#with open(\"pypoll.txt\", 'a') as f:\n",
    "    #f = open(\"pypoll.txt\", \"x\")\n",
    "    #pypoll = txt.writer(txtfile)\n",
    "    #print(\"Election Results\", file=f)\n",
    "    #print(\"--------------------\", file=f)\n",
    "    #print(f\"Total Votes: {sum_votes}\", file=f)\n",
    "    #print(\"--------------------\", file=f)\n",
    "    #for candidate, votes in candidate_votes.items():\n",
    "     #   votes_percent = float(votes) / float(sum_votes) * 100\n",
    "      #  print(f\"{candidate}: {votes_percent:.3f}% ({votes})\", file=f)\n",
    "       # if votes > winner_count:\n",
    "        #    winner_count = votes\n",
    "         #   winner_candidate = candidate\n",
    "    #print(\"--------------------\", file=f)\n",
    "    #print(f\"Winner: {winner_candidate}\", file=f)\n",
    "    #print(\"--------------------\", file=f)\n",
    "    #f.close()\n"
   ]
  }
 ],
 "metadata": {
  "kernelspec": {
   "display_name": "Python 3 (ipykernel)",
   "language": "python",
   "name": "python3"
  },
  "language_info": {
   "codemirror_mode": {
    "name": "ipython",
    "version": 3
   },
   "file_extension": ".py",
   "mimetype": "text/x-python",
   "name": "python",
   "nbconvert_exporter": "python",
   "pygments_lexer": "ipython3",
   "version": "3.11.7"
  }
 },
 "nbformat": 4,
 "nbformat_minor": 4
}
